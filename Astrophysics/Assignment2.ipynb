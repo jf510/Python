{
 "cells": [
  {
   "cell_type": "code",
   "execution_count": 10,
   "metadata": {},
   "outputs": [],
   "source": [
    "import numpy as np\n",
    "import matplotlib.pyplot as plt \n",
    "import math"
   ]
  },
  {
   "cell_type": "code",
   "execution_count": 36,
   "metadata": {},
   "outputs": [
    {
     "name": "stdout",
     "output_type": "stream",
     "text": [
      "0.8272399468582088\n",
      "1.1727600531417912\n"
     ]
    }
   ],
   "source": [
    "a = 0\n",
    "b = np.pi/2\n",
    "n = 10\n",
    "# n = 10**2\n",
    "# n = 10**3\n",
    "# n = 10**4\n",
    "# n = 10**5\n",
    "h = (b - a) / (n - 1)\n",
    "x = np.linspace(0, np.pi/2, n)\n",
    "f = np.sin(x)\n",
    "\n",
    "I_simp = (h/3) * (f[0] + 2*sum(f[:n-2:2])  + 4*sum(f[1:n-1:2]) + f[n-1])\n",
    "err_simp = 2 - I_simp\n",
    "\n",
    "print(I_simp)\n",
    "print(err_simp)"
   ]
  },
  {
   "cell_type": "code",
   "execution_count": 4,
   "metadata": {},
   "outputs": [
    {
     "data": {
      "text/plain": [
       "[<matplotlib.lines.Line2D at 0x129700750c8>]"
      ]
     },
     "execution_count": 4,
     "metadata": {},
     "output_type": "execute_result"
    },
    {
     "data": {
      "image/png": "[encoded data removed]",
      "text/plain": [
       "<Figure size 432x288 with 1 Axes>"
      ]
     },
     "metadata": {
      "needs_background": "light"
     },
     "output_type": "display_data"
    }
   ],
   "source": [
    "# PROBLEM 2\n",
    "import numpy as np\n",
    "import matplotlib.pyplot as plt \n",
    "import math\n",
    "from scipy.integrate import quad\n",
    "\n",
    "\n",
    "\n",
    "\n",
    "p = 0.2\n",
    "z = 0.9\n",
    "a = \n",
    "\n",
    "\n",
    "\n",
    "def f(p, z):\n",
    "    if r >= z+p or r <= z-p:\n",
    "        return 0\n",
    "\n",
    "    elif r + z <= p:\n",
    "        return 1\n",
    "\n",
    "    else:\n",
    "        return np.pi**-1(math.acos(z**2- p**2 + r**2 / 2*z*r))\n",
    "\n",
    "\n",
    "plt.plot(p, z)"
   ]
  },
  {
   "cell_type": "code",
   "execution_count": null,
   "metadata": {},
   "outputs": [],
   "source": [
    "# PROBLEM 3\n"
   ]
  }
 ],
 "metadata": {
  "interpreter": {
   "hash": "2a4b83f9f5e68069e9956390a5678abf318488a4b58cc0b42705237419614756"
  },
  "kernelspec": {
   "display_name": "Python 3.7.9 64-bit",
   "language": "python",
   "name": "python3"
  },
  "language_info": {
   "codemirror_mode": {
    "name": "ipython",
    "version": 3
   },
   "file_extension": ".py",
   "mimetype": "text/x-python",
   "name": "python",
   "nbconvert_exporter": "python",
   "pygments_lexer": "ipython3",
   "version": "3.7.9"
  },
  "orig_nbformat": 4
 },
 "nbformat": 4,
 "nbformat_minor": 2
}
