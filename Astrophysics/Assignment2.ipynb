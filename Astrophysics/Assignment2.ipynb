{
 "cells": [
  {
   "cell_type": "code",
   "execution_count": 15,
   "metadata": {},
   "outputs": [],
   "source": [
    "import numpy as np\n",
    "import matplotlib.pyplot as plt \n",
    "import math"
   ]
  },
  {
   "cell_type": "code",
   "execution_count": 16,
   "metadata": {},
   "outputs": [
    {
     "name": "stdout",
     "output_type": "stream",
     "text": [
      "0.8272399468582088\n",
      "1.1727600531417912\n"
     ]
    }
   ],
   "source": [
    "a = 0\n",
    "b = np.pi/2\n",
    "n = 10\n",
    "# n = 10**2\n",
    "# n = 10**3\n",
    "# n = 10**4\n",
    "# n = 10**5\n",
    "h = (b - a) / (n - 1)\n",
    "x = np.linspace(0, np.pi/2, n)\n",
    "f = np.sin(x)\n",
    "\n",
    "I_simp = (h/3) * (f[0] + 2*sum(f[:n-2:2])  + 4*sum(f[1:n-1:2]) + f[n-1])\n",
    "err_simp = 2 - I_simp\n",
    "\n",
    "print(I_simp)\n",
    "print(err_simp)"
   ]
  },
  {
   "cell_type": "code",
   "execution_count": 20,
   "metadata": {},
   "outputs": [
    {
     "name": "stdout",
     "output_type": "stream",
     "text": [
      "0.9 <function f at 0x00000230FF5E5F78>\n"
     ]
    }
   ],
   "source": [
    "# PROBLEM 2\n",
    "import numpy as np\n",
    "import matplotlib.pyplot as plt \n",
    "import math\n",
    "from scipy.integrate import quad\n",
    "\n",
    "\n",
    "def f(p,z):\n",
    "    return (1-S(p,r,z)*2) / 2\n",
    "\n",
    "p = 0.2\n",
    "z = 0.9\n",
    "r = 1\n",
    "\n",
    "\n",
    "\n",
    "def S(p, r, z):\n",
    "    if r >= z+p or r <= z-p:\n",
    "        return 0\n",
    "\n",
    "    elif r + z <= p:\n",
    "        return 1\n",
    "\n",
    "    else:\n",
    "        return np.pi**-1(math.acos(z**2- p**2 + r**2 / 2*z*r))\n",
    "\n",
    "\n",
    "\n",
    "print (z, f)"
   ]
  },
  {
   "cell_type": "code",
   "execution_count": null,
   "metadata": {},
   "outputs": [],
   "source": [
    "# PROBLEM 3\n",
    "\n",
    "import numpy as np\n",
    "\n",
    "def func1(x):\n",
    "    return  (1-S(p,r,z)*2) / 2\n",
    "\n",
    "def domain_unit_circle(x):\n",
    "    # integration domain: sum of x^2 <= 1. \n",
    "    # For 2d, it's a unit circle; for 3d it's a unit sphere, etc\n",
    "    # returns True for inside domain, False for outside\n",
    "    \n",
    "    return S(p,r,z) <= 1\n",
    "\n",
    "def mc_integrate(func, func_domain, a, b, dim, n = 10):\n",
    "    # Monte Carlo integration of given function over domain specified by func_domain\n",
    "    # dim: dimensions of function\n",
    "    \n",
    "    # sample x\n",
    "    x_list = np.random.uniform(a, b, (n, dim))\n",
    "    \n",
    "    # determine whether sampled x is in or outside of domain, and calculate its volume\n",
    "    inside_domain = [func_domain(x) for x in x_list]\n",
    "    frac_in_domain = sum(inside_domain)/len(inside_domain)\n",
    "    domain = np.power(b-a, dim) * frac_in_domain\n",
    "    \n",
    "    # calculate expected value of func inside domain\n",
    "    y = func(x_list)\n",
    "    y_mean = y[inside_domain].sum()/len(y[inside_domain])\n",
    "    \n",
    "    # estimated integration\n",
    "    integ = domain * y_mean\n",
    "    \n",
    "    return integ"
   ]
  }
 ],
 "metadata": {
  "interpreter": {
   "hash": "2a4b83f9f5e68069e9956390a5678abf318488a4b58cc0b42705237419614756"
  },
  "kernelspec": {
   "display_name": "Python 3.7.9 64-bit",
   "language": "python",
   "name": "python3"
  },
  "language_info": {
   "codemirror_mode": {
    "name": "ipython",
    "version": 3
   },
   "file_extension": ".py",
   "mimetype": "text/x-python",
   "name": "python",
   "nbconvert_exporter": "python",
   "pygments_lexer": "ipython3",
   "version": "3.7.9"
  },
  "orig_nbformat": 4
 },
 "nbformat": 4,
 "nbformat_minor": 2
}
