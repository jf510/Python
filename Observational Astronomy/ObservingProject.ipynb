{
 "cells": [
  {
   "cell_type": "code",
   "execution_count": 13,
   "metadata": {},
   "outputs": [
    {
     "name": "stdout",
     "output_type": "stream",
     "text": [
      "Object SkyCoords : <SkyCoord (ICRS): (ra, dec) in deg\n",
      "    (14.17721542, 60.71674028)>\n"
     ]
    }
   ],
   "source": [
    "from astropy.coordinates import SkyCoord\n",
    "\n",
    "andromeda_coords = SkyCoord.from_name('HD5394')\n",
    "print(f\"Object SkyCoords : {andromeda_coords}\")"
   ]
  },
  {
   "cell_type": "code",
   "execution_count": 14,
   "metadata": {},
   "outputs": [
    {
     "name": "stdout",
     "output_type": "stream",
     "text": [
      " - Position RA/DEC (hms & dms / ep=J2000): 00h56m42.5317008s +60d43m00.265008s\n",
      " - Position RA et DEC - Détail (ep=J2000) : (hms_tuple(h=0.0, m=56.0, s=42.53170080000075), dms_tuple(d=60.0, m=43.0, s=0.26500800001201696))\n",
      " - RA (min) : 56.0\n"
     ]
    }
   ],
   "source": [
    "print(f\" - Position RA/DEC (hms & dms / ep=J2000): {andromeda_coords.to_string('hmsdms')}\")\n",
    "print(f\" - Position RA et DEC - Détail (ep=J2000) : {andromeda_coords.ra.hms, andromeda_coords.dec.dms}\")\n",
    "print(f\" - RA (min) : {andromeda_coords.ra.hms.m}\")"
   ]
  },
  {
   "cell_type": "code",
   "execution_count": 15,
   "metadata": {},
   "outputs": [
    {
     "name": "stdout",
     "output_type": "stream",
     "text": [
      "MAIN_ID      RA          DEC      ... SP_QUAL SP_BIBCODE SCRIPT_NUMBER_ID\n",
      "          \"h:m:s\"      \"d:m:s\"    ...                                    \n",
      "------- ------------ ------------ ... ------- ---------- ----------------\n",
      "  M  31 00 42 44.330 +41 16 07.50 ...                                   1\n",
      "\n",
      "Coordinates\n",
      "00 42 44.330\n",
      "+41 16 07.50\n",
      "\n",
      "Spectral Type\n",
      "SP_TYPE\n",
      "-------\n",
      "       \n"
     ]
    }
   ],
   "source": [
    "from astroquery.simbad import Simbad\n",
    "\n",
    "simbad = Simbad()\n",
    "\n",
    "simbad.add_votable_fields('sptype')\n",
    "\n",
    "result_table = simbad.query_object(\"\")\n",
    "result_table.pprint(show_unit=True)\n",
    "\n",
    "print('\\nCoordinates')\n",
    "print(result_table['RA'][0])\n",
    "print(result_table['DEC'][0])\n",
    "\n",
    "print(\"\\nSpectral Type\")\n",
    "print(result_table['SP_TYPE'])\n"
   ]
  },
  {
   "cell_type": "code",
   "execution_count": 1,
   "metadata": {},
   "outputs": [
    {
     "data": {
      "application/vnd.jupyter.widget-view+json": {
       "model_id": "b3270f278f33457e9d4c7e8858bde7fc",
       "version_major": 2,
       "version_minor": 0
      },
      "text/plain": [
       "Aladin(fov=1.0, options=['allow_full_zoomout', 'coo_frame', 'fov', 'full_screen', 'log', 'overlay_survey', 'ov…"
      ]
     },
     "metadata": {},
     "output_type": "display_data"
    }
   ],
   "source": [
    "from ipyaladin.aladin_widget import Aladin\n",
    "aladin = Aladin(target = 'RCW 79', fov = 1)\n",
    "aladin"
   ]
  },
  {
   "cell_type": "code",
   "execution_count": 23,
   "metadata": {},
   "outputs": [
    {
     "data": {
      "application/vnd.jupyter.widget-view+json": {
       "model_id": "2eb7cd06ec374ea6ac0fc14ef6f55ce3",
       "version_major": 2,
       "version_minor": 0
      },
      "text/plain": [
       "Aladin(fov=1.0, options=['allow_full_zoomout', 'coo_frame', 'fov', 'full_screen', 'log', 'overlay_survey', 'ov…"
      ]
     },
     "metadata": {},
     "output_type": "display_data"
    }
   ],
   "source": []
  }
 ],
 "metadata": {
  "interpreter": {
   "hash": "2a4b83f9f5e68069e9956390a5678abf318488a4b58cc0b42705237419614756"
  },
  "kernelspec": {
   "display_name": "Python 3.7.9 64-bit",
   "language": "python",
   "name": "python3"
  },
  "language_info": {
   "codemirror_mode": {
    "name": "ipython",
    "version": 3
   },
   "file_extension": ".py",
   "mimetype": "text/x-python",
   "name": "python",
   "nbconvert_exporter": "python",
   "pygments_lexer": "ipython3",
   "version": "3.7.9"
  },
  "orig_nbformat": 4
 },
 "nbformat": 4,
 "nbformat_minor": 2
}
