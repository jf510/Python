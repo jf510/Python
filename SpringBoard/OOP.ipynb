{
 "cells": [
  {
   "cell_type": "code",
   "execution_count": 2,
   "metadata": {},
   "outputs": [],
   "source": [
    "## OOP INTRO\n",
    "\n",
    "from collections import Counter\n",
    "\n",
    "my_counter = Counter('OOMPA LOOMPA')"
   ]
  },
  {
   "cell_type": "code",
   "execution_count": 7,
   "metadata": {},
   "outputs": [
    {
     "data": {
      "text/plain": [
       "[('O', 4), ('M', 2), ('P', 2), ('A', 2), (' ', 1), ('L', 1)]"
      ]
     },
     "execution_count": 7,
     "metadata": {},
     "output_type": "execute_result"
    }
   ],
   "source": [
    "#my_counter\n",
    "my_counter.most_common()\n",
    "\n",
    "#from datetime import date\n",
    "#\n",
    "#my_date = date(2030, 2, 14)\n",
    "#my_date.day\n",
    "#my_date.weekday()\n",
    "\n"
   ]
  },
  {
   "cell_type": "code",
   "execution_count": 58,
   "metadata": {},
   "outputs": [
    {
     "data": {
      "text/plain": [
       "6.0"
      ]
     },
     "execution_count": 58,
     "metadata": {},
     "output_type": "execute_result"
    }
   ],
   "source": [
    "## CLASS METHODS\n",
    "\n",
    "from math import sqrt\n",
    "\n",
    "class Triangle:\n",
    "    def __init__(self,a,b):\n",
    "        self.a = a\n",
    "        self.b = b\n",
    "\n",
    "    def get_hypotenuse(self):\n",
    "        return sqrt(self.a**2 + self.b**2)\n",
    "\n",
    "\n",
    "    def get_area(self):\n",
    "       return self.a * self.b / 2\n",
    "\n",
    "    def describe(self):\n",
    "        return f'I am a triangle with sides: {self.a} & {self.b}.'\n",
    "    \n",
    "\n",
    "t = Triangle(3,4)\n",
    "t.get_area()\n",
    "#t.get_hypotenuse()\n",
    "\n",
    "\n"
   ]
  },
  {
   "cell_type": "code",
   "execution_count": 59,
   "metadata": {},
   "outputs": [
    {
     "name": "stdout",
     "output_type": "stream",
     "text": [
      "purple\n",
      "6.0\n",
      "I am a triangle with sides: 3 & 4. I am purple.\n"
     ]
    }
   ],
   "source": [
    "## INHERITANCE\n",
    "\n",
    "#from triangle import Triangle          if we had a separate triangle.py file\n",
    "\n",
    "class ColoredTriangle(Triangle):    # the coloredtriangle class extends the triangle class\n",
    "\n",
    "    def __init__(self,a,b,color):\n",
    "        super().__init__(a,b)\n",
    "        self.color  = color\n",
    "    \n",
    "    def describe(self):\n",
    "        msg = super().describe()\n",
    "        return msg + f' I am {self.color}.'\n",
    "\n",
    "    \n",
    "  \n",
    "t = ColoredTriangle(3,4,'purple')\n",
    "print(t.color)\n",
    "print(t.get_area())\n",
    "print(t.describe())\n",
    "\n"
   ]
  },
  {
   "cell_type": "code",
   "execution_count": 62,
   "metadata": {},
   "outputs": [
    {
     "name": "stdout",
     "output_type": "stream",
     "text": [
      "Triangle(a = 3, b = 4)\n"
     ]
    }
   ],
   "source": [
    "## DUNDER METHODS\n",
    "\n",
    "class Triangle:\n",
    "    def __init__(self,a,b):\n",
    "        self.a = a\n",
    "        self.b = b\n",
    "\n",
    "    def __repr__(self):\n",
    "        return f'Triangle(a = {self.a}, b = {self.b})'\n",
    "        ## DUNDER METHODS\n",
    "t = Triangle(3,4)\n",
    "print(t)\n"
   ]
  },
  {
   "cell_type": "code",
   "execution_count": 77,
   "metadata": {},
   "outputs": [
    {
     "data": {
      "text/plain": [
       "True"
      ]
     },
     "execution_count": 77,
     "metadata": {},
     "output_type": "execute_result"
    }
   ],
   "source": [
    "# DUNDER METHODS\n",
    "from math import sqrt\n",
    "\n",
    "class Triangle:\n",
    "    def __init__(self,a,b):\n",
    "        self.a = a\n",
    "        self.b = b\n",
    "\n",
    "    def get_hypotenuse(self):\n",
    "        return sqrt(self.a**2 + self.b**2)\n",
    "\n",
    "\n",
    "    def get_area(self):\n",
    "       return self.a * self.b / 2\n",
    "\n",
    "    def describe(self):\n",
    "        return f'I am a triangle with sides: {self.a} & {self.b}.'\n",
    "\n",
    "    def __repr__(self):\n",
    "        return f'Triangle(a = {self.a}, b = {self.b})'\n",
    "    \n",
    "    def __str__(self):\n",
    "        return self.describe()\n",
    "#    \n",
    "    #tri = Triangle(3,4)\n",
    "    #print(repr(tri))\n",
    "    #print(str(tri))\n",
    "    # tri2 = Triangle(3,4)\n",
    "\n",
    "    def __eq__(self, other):\n",
    "        return self.a == other.a and self.b == other.b\n",
    "\n",
    "tri = Triangle(3,4)\n",
    "tri2 = Triangle(3,4)\n",
    "\n",
    "tri == tri2"
   ]
  },
  {
   "cell_type": "code",
   "execution_count": null,
   "metadata": {},
   "outputs": [],
   "source": []
  },
  {
   "cell_type": "code",
   "execution_count": null,
   "metadata": {},
   "outputs": [],
   "source": []
  }
 ],
 "metadata": {
  "interpreter": {
   "hash": "2a4b83f9f5e68069e9956390a5678abf318488a4b58cc0b42705237419614756"
  },
  "kernelspec": {
   "display_name": "Python 3.7.9 64-bit",
   "language": "python",
   "name": "python3"
  },
  "language_info": {
   "codemirror_mode": {
    "name": "ipython",
    "version": 3
   },
   "file_extension": ".py",
   "mimetype": "text/x-python",
   "name": "python",
   "nbconvert_exporter": "python",
   "pygments_lexer": "ipython3",
   "version": "3.7.9"
  },
  "orig_nbformat": 4
 },
 "nbformat": 4,
 "nbformat_minor": 2
}
